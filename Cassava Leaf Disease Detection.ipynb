{
 "cells": [
  {
   "cell_type": "code",
   "execution_count": 4,
   "id": "e6c4115d",
   "metadata": {},
   "outputs": [],
   "source": [
    "import pandas as pd\n",
    "import numpy as np\n",
    "import matplotlib.pyplot as plt\n",
    "import os\n",
    "import tqdm\n",
    "import json\n",
    "import glob\n",
    "import random\n",
    "import shutil\n",
    "import warnings\n",
    "from collections import Counter\n",
    "import plotly\n",
    "import seaborn as sns\n",
    "import cv2"
   ]
  },
  {
   "cell_type": "code",
   "execution_count": 5,
   "id": "6f29e7d1",
   "metadata": {},
   "outputs": [
    {
     "name": "stdout",
     "output_type": "stream",
     "text": [
      "C:\\Users\\v-kumardeep\n",
      "C:\\Users\\v-kumardeep\\Desktop\\cassava-leaf-disease-classification\n"
     ]
    }
   ],
   "source": [
    "cwd = os.getcwd()\n",
    "print(cwd)\n",
    "os.chdir(r'C:\\Users\\v-kumardeep\\Desktop\\cassava-leaf-disease-classification')\n",
    "cwd = os.getcwd()\n",
    "print(cwd)"
   ]
  },
  {
   "cell_type": "code",
   "execution_count": 3,
   "id": "97130d6f",
   "metadata": {},
   "outputs": [
    {
     "name": "stdout",
     "output_type": "stream",
     "text": [
      "Num GPUs Available:  0\n",
      "Yes, there is GPU\n"
     ]
    }
   ],
   "source": [
    "import tensorflow as tf\n",
    "print(\"Num GPUs Available: \", len(tf.config.experimental.list_physical_devices('GPU')))\n",
    "with tf.device('/GPU:0'):\n",
    "    print('Yes, there is GPU')\n",
    "    \n",
    "tf.debugging.set_log_device_placement(True)"
   ]
  },
  {
   "cell_type": "code",
   "execution_count": 4,
   "id": "5c09b264",
   "metadata": {},
   "outputs": [
    {
     "data": {
      "text/plain": [
       "{0: 'Cassava Bacterial Blight (CBB)',\n",
       " 1: 'Cassava Brown Streak Disease (CBSD)',\n",
       " 2: 'Cassava Green Mottle (CGM)',\n",
       " 3: 'Cassava Mosaic Disease (CMD)',\n",
       " 4: 'Healthy'}"
      ]
     },
     "execution_count": 4,
     "metadata": {},
     "output_type": "execute_result"
    }
   ],
   "source": [
    "data = pd.read_csv('train.csv')\n",
    "\n",
    "with open('label_num_to_disease_map.json') as f:\n",
    "    labels = json.load(f)\n",
    "    labels = {int(k):v for k,v in labels.items()}\n",
    "    \n",
    "data['class_name'] = data['label'].map(labels)\n",
    "\n",
    "labels"
   ]
  },
  {
   "cell_type": "code",
   "execution_count": 5,
   "id": "dbbeeaca",
   "metadata": {},
   "outputs": [
    {
     "data": {
      "text/html": [
       "<div>\n",
       "<style scoped>\n",
       "    .dataframe tbody tr th:only-of-type {\n",
       "        vertical-align: middle;\n",
       "    }\n",
       "\n",
       "    .dataframe tbody tr th {\n",
       "        vertical-align: top;\n",
       "    }\n",
       "\n",
       "    .dataframe thead th {\n",
       "        text-align: right;\n",
       "    }\n",
       "</style>\n",
       "<table border=\"1\" class=\"dataframe\">\n",
       "  <thead>\n",
       "    <tr style=\"text-align: right;\">\n",
       "      <th></th>\n",
       "      <th>image_id</th>\n",
       "      <th>label</th>\n",
       "      <th>class_name</th>\n",
       "    </tr>\n",
       "  </thead>\n",
       "  <tbody>\n",
       "    <tr>\n",
       "      <th>0</th>\n",
       "      <td>1000015157.jpg</td>\n",
       "      <td>0</td>\n",
       "      <td>Cassava Bacterial Blight (CBB)</td>\n",
       "    </tr>\n",
       "    <tr>\n",
       "      <th>1</th>\n",
       "      <td>1000201771.jpg</td>\n",
       "      <td>3</td>\n",
       "      <td>Cassava Mosaic Disease (CMD)</td>\n",
       "    </tr>\n",
       "    <tr>\n",
       "      <th>2</th>\n",
       "      <td>100042118.jpg</td>\n",
       "      <td>1</td>\n",
       "      <td>Cassava Brown Streak Disease (CBSD)</td>\n",
       "    </tr>\n",
       "    <tr>\n",
       "      <th>3</th>\n",
       "      <td>1000723321.jpg</td>\n",
       "      <td>1</td>\n",
       "      <td>Cassava Brown Streak Disease (CBSD)</td>\n",
       "    </tr>\n",
       "    <tr>\n",
       "      <th>4</th>\n",
       "      <td>1000812911.jpg</td>\n",
       "      <td>3</td>\n",
       "      <td>Cassava Mosaic Disease (CMD)</td>\n",
       "    </tr>\n",
       "  </tbody>\n",
       "</table>\n",
       "</div>"
      ],
      "text/plain": [
       "         image_id  label                           class_name\n",
       "0  1000015157.jpg      0       Cassava Bacterial Blight (CBB)\n",
       "1  1000201771.jpg      3         Cassava Mosaic Disease (CMD)\n",
       "2   100042118.jpg      1  Cassava Brown Streak Disease (CBSD)\n",
       "3  1000723321.jpg      1  Cassava Brown Streak Disease (CBSD)\n",
       "4  1000812911.jpg      3         Cassava Mosaic Disease (CMD)"
      ]
     },
     "execution_count": 5,
     "metadata": {},
     "output_type": "execute_result"
    }
   ],
   "source": [
    "data.head(5)"
   ]
  },
  {
   "cell_type": "code",
   "execution_count": 6,
   "id": "d79cf627",
   "metadata": {},
   "outputs": [],
   "source": [
    "from sklearn.model_selection import train_test_split\n",
    "\n",
    "train, test = train_test_split(data, test_size =0.05, random_state = 42, stratify = data['class_name'])"
   ]
  },
  {
   "cell_type": "code",
   "execution_count": 7,
   "id": "2f4f4209",
   "metadata": {},
   "outputs": [
    {
     "name": "stdout",
     "output_type": "stream",
     "text": [
      "Found 20327 validated image filenames belonging to 5 classes.\n",
      "Found 1070 validated image filenames belonging to 5 classes.\n"
     ]
    }
   ],
   "source": [
    "import tensorflow as tf\n",
    "import keras\n",
    "from keras.preprocessing.image import ImageDataGenerator\n",
    "from PIL import Image\n",
    "\n",
    "train_data = ImageDataGenerator(\n",
    "    preprocessing_function = tf.keras.applications.efficientnet.preprocess_input,\n",
    "    rotation_range = 40,\n",
    "    width_shift_range = 0.2,\n",
    "    height_shift_range = 0.2,\n",
    "    shear_range = 0.2,\n",
    "    zoom_range = 0.2,\n",
    "    horizontal_flip = True,\n",
    "    vertical_flip = True,\n",
    "    fill_mode = 'nearest'\n",
    ")\n",
    "\n",
    "test_data = ImageDataGenerator(\n",
    "    preprocessing_function = tf.keras.applications.efficientnet.preprocess_input\n",
    ")\n",
    "\n",
    "\n",
    "train_set = train_data.flow_from_dataframe(\n",
    "    train,\n",
    "    directory='train_images',\n",
    "    seed=42,\n",
    "    x_col='image_id',\n",
    "    y_col='class_name',\n",
    "    target_size = (456,456),\n",
    "    class_mode='categorical',\n",
    "    interpolation='nearest',\n",
    "    shuffle = True,\n",
    "    batch_size = 15\n",
    ")\n",
    "\n",
    "test_set = test_data.flow_from_dataframe(\n",
    "    test,\n",
    "    directory='train_images',\n",
    "    seed=42,\n",
    "    x_col='image_id',\n",
    "    y_col='class_name',\n",
    "    target_size = (456,456),\n",
    "    class_mode='categorical',\n",
    "    interpolation='nearest',\n",
    "    shuffle=True,\n",
    "    batch_size= 15    \n",
    ")"
   ]
  },
  {
   "cell_type": "code",
   "execution_count": 3,
   "id": "8ff12164",
   "metadata": {},
   "outputs": [],
   "source": [
    "import tensorflow as tf\n",
    "import keras\n",
    "from keras.models import Sequential\n",
    "from keras.layers import GlobalAveragePooling2D, Flatten, Dense, Dropout, BatchNormalization\n",
    "from tensorflow.keras.optimizers import RMSprop, Adam\n",
    "from keras.callbacks import EarlyStopping, ModelCheckpoint, ReduceLROnPlateau\n",
    "from tensorflow.keras.applications import EfficientNetB3"
   ]
  },
  {
   "cell_type": "code",
   "execution_count": 9,
   "id": "6d2fdb5e",
   "metadata": {},
   "outputs": [
    {
     "name": "stdout",
     "output_type": "stream",
     "text": [
      "Model: \"sequential\"\n",
      "_________________________________________________________________\n",
      " Layer (type)                Output Shape              Param #   \n",
      "=================================================================\n",
      " efficientnetb3 (Functional)  (None, 15, 15, 1536)     10783535  \n",
      "                                                                 \n",
      " global_average_pooling2d (G  (None, 1536)             0         \n",
      " lobalAveragePooling2D)                                          \n",
      "                                                                 \n",
      " flatten (Flatten)           (None, 1536)              0         \n",
      "                                                                 \n",
      " dense (Dense)               (None, 256)               393472    \n",
      "                                                                 \n",
      " dropout (Dropout)           (None, 256)               0         \n",
      "                                                                 \n",
      " dense_1 (Dense)             (None, 5)                 1285      \n",
      "                                                                 \n",
      "=================================================================\n",
      "Total params: 11,178,292\n",
      "Trainable params: 11,090,989\n",
      "Non-trainable params: 87,303\n",
      "_________________________________________________________________\n"
     ]
    }
   ],
   "source": [
    "model = Sequential()\n",
    "model.add(\n",
    "    EfficientNetB3(\n",
    "        input_shape = (456, 456, 3), \n",
    "        include_top = False,\n",
    "        weights='imagenet',\n",
    "        drop_connect_rate=0.6,\n",
    "    )\n",
    ")\n",
    "model.add(GlobalAveragePooling2D())\n",
    "model.add(Flatten())\n",
    "model.add(Dense(\n",
    "    256, \n",
    "    activation='relu', \n",
    "    bias_regularizer=tf.keras.regularizers.L1L2(l1=0.01, l2=0.001)\n",
    "))\n",
    "model.add(Dropout(0.5))\n",
    "model.add(Dense(5, activation = 'softmax'))\n",
    "\n",
    "model.summary()"
   ]
  },
  {
   "cell_type": "code",
   "execution_count": 10,
   "id": "808235d3",
   "metadata": {},
   "outputs": [
    {
     "name": "stdout",
     "output_type": "stream",
     "text": [
      "Epoch 1/15\n",
      "1355/1355 [==============================] - ETA: 0s - loss: 0.7058 - categorical_accuracy: 0.7579 "
     ]
    },
    {
     "name": "stderr",
     "output_type": "stream",
     "text": [
      "C:\\Users\\v-kumardeep\\Anaconda3\\lib\\site-packages\\keras\\engine\\functional.py:1410: CustomMaskWarning: Custom mask layers require a config and must override get_config. When loading, the custom mask layer must be passed to the custom_objects argument.\n",
      "  layer_config = serialize_layer_fn(layer)\n"
     ]
    },
    {
     "name": "stdout",
     "output_type": "stream",
     "text": [
      "1355/1355 [==============================] - 28488s 21s/step - loss: 0.7058 - categorical_accuracy: 0.7579 - val_loss: 0.4804 - val_categorical_accuracy: 0.8423 - lr: 0.0010\n",
      "Epoch 2/15\n",
      "1355/1355 [==============================] - 29637s 22s/step - loss: 0.5576 - categorical_accuracy: 0.8158 - val_loss: 0.5884 - val_categorical_accuracy: 0.8113 - lr: 0.0010\n",
      "Epoch 3/15\n",
      "1355/1355 [==============================] - ETA: 0s - loss: 0.5140 - categorical_accuracy: 0.8270 \n",
      "Epoch 00003: ReduceLROnPlateau reducing learning rate to 0.00020000000949949026.\n",
      "1355/1355 [==============================] - 29192s 22s/step - loss: 0.5140 - categorical_accuracy: 0.8270 - val_loss: 0.4958 - val_categorical_accuracy: 0.8460 - lr: 0.0010\n",
      "Epoch 4/15\n",
      "1355/1355 [==============================] - 27077s 20s/step - loss: 0.4215 - categorical_accuracy: 0.8623 - val_loss: 0.3594 - val_categorical_accuracy: 0.8826 - lr: 2.0000e-04\n",
      "Epoch 5/15\n",
      "1355/1355 [==============================] - 28649s 21s/step - loss: 0.3889 - categorical_accuracy: 0.8715 - val_loss: 0.3456 - val_categorical_accuracy: 0.8864 - lr: 2.0000e-04\n",
      "Epoch 6/15\n",
      "1355/1355 [==============================] - 29869s 22s/step - loss: 0.3758 - categorical_accuracy: 0.8749 - val_loss: 0.3598 - val_categorical_accuracy: 0.8845 - lr: 2.0000e-04\n",
      "Epoch 7/15\n",
      "1355/1355 [==============================] - ETA: 0s - loss: 0.3688 - categorical_accuracy: 0.8782 \n",
      "Epoch 00007: ReduceLROnPlateau reducing learning rate to 4.0000001899898055e-05.\n",
      "1355/1355 [==============================] - 27319s 20s/step - loss: 0.3688 - categorical_accuracy: 0.8782 - val_loss: 0.3539 - val_categorical_accuracy: 0.8808 - lr: 2.0000e-04\n",
      "Epoch 8/15\n",
      "1355/1355 [==============================] - 29249s 22s/step - loss: 0.3432 - categorical_accuracy: 0.8840 - val_loss: 0.3297 - val_categorical_accuracy: 0.8892 - lr: 4.0000e-05\n",
      "Epoch 9/15\n",
      "1355/1355 [==============================] - 30205s 22s/step - loss: 0.3318 - categorical_accuracy: 0.8886 - val_loss: 0.3307 - val_categorical_accuracy: 0.8873 - lr: 4.0000e-05\n",
      "Epoch 10/15\n",
      "1355/1355 [==============================] - ETA: 0s - loss: 0.3278 - categorical_accuracy: 0.8895 \n",
      "Epoch 00010: ReduceLROnPlateau reducing learning rate to 8.000000525498762e-06.\n",
      "1355/1355 [==============================] - 27101s 20s/step - loss: 0.3278 - categorical_accuracy: 0.8895 - val_loss: 0.3317 - val_categorical_accuracy: 0.8854 - lr: 4.0000e-05\n",
      "Epoch 11/15\n",
      "1355/1355 [==============================] - 30813s 23s/step - loss: 0.3217 - categorical_accuracy: 0.8932 - val_loss: 0.3297 - val_categorical_accuracy: 0.8864 - lr: 8.0000e-06\n",
      "Epoch 12/15\n",
      "1355/1355 [==============================] - 32383s 24s/step - loss: 0.3206 - categorical_accuracy: 0.8930 - val_loss: 0.3296 - val_categorical_accuracy: 0.8854 - lr: 8.0000e-06\n",
      "Epoch 13/15\n",
      "1355/1355 [==============================] - 27283s 20s/step - loss: 0.3193 - categorical_accuracy: 0.8947 - val_loss: 0.3303 - val_categorical_accuracy: 0.8883 - lr: 8.0000e-06\n",
      "Epoch 14/15\n",
      "1355/1355 [==============================] - 32806s 24s/step - loss: 0.3215 - categorical_accuracy: 0.8939 - val_loss: 0.3294 - val_categorical_accuracy: 0.8873 - lr: 8.0000e-06\n",
      "Epoch 15/15\n",
      "1355/1355 [==============================] - 33566s 25s/step - loss: 0.3166 - categorical_accuracy: 0.8946 - val_loss: 0.3305 - val_categorical_accuracy: 0.8892 - lr: 8.0000e-06\n"
     ]
    }
   ],
   "source": [
    "loss = tf.keras.losses.CategoricalCrossentropy(\n",
    "    from_logits = False,\n",
    "    label_smoothing=0.0001,\n",
    "    name='categorical_crossentropy'\n",
    ")\n",
    "\n",
    "model.compile(\n",
    "    optimizer = Adam(learning_rate = 1e-3),\n",
    "    loss = loss, #'categorical_crossentropy'\n",
    "    metrics = ['categorical_accuracy']\n",
    ")\n",
    "\n",
    "es = EarlyStopping(\n",
    "    monitor='val_loss', \n",
    "    mode='min', \n",
    "    patience=3,\n",
    "    restore_best_weights=True, \n",
    "    verbose=1,\n",
    ")\n",
    "checkpoint_cb = ModelCheckpoint(\n",
    "    \"Cassava_best_model.h5\",\n",
    "    save_best_only=True,\n",
    "    monitor='val_loss',\n",
    "    mode='min',\n",
    ")\n",
    "\n",
    "reduce_lr = ReduceLROnPlateau(\n",
    "    monitor='val_loss',\n",
    "    factor=0.2,\n",
    "    patience=2,\n",
    "    min_lr= 1e-6,\n",
    "    mode='min',\n",
    "    verbose=1,\n",
    ")\n",
    "\n",
    "history = model.fit(\n",
    "    train_set,\n",
    "    validation_data=test_set,\n",
    "    epochs=15,\n",
    "    batch_size=15,\n",
    "    steps_per_epoch=train_set.n // train_set.batch_size,\n",
    "    validation_steps=test_set.n // test_set.batch_size,\n",
    "    callbacks=[es, checkpoint_cb, reduce_lr],\n",
    ")\n",
    "\n",
    "model.save('Cassava_model'+'.h5')"
   ]
  },
  {
   "cell_type": "code",
   "execution_count": 16,
   "id": "33836c1c",
   "metadata": {},
   "outputs": [
    {
     "name": "stdout",
     "output_type": "stream",
     "text": [
      "Train Categorical Accuracy:  0.8946927785873413\n",
      "Test Categorical Accuracy:  0.8892018795013428\n"
     ]
    }
   ],
   "source": [
    "print('Train Categorical Accuracy: ', max(history.history['categorical_accuracy']))\n",
    "print('Test Categorical Accuracy: ', max(history.history['val_categorical_accuracy']))"
   ]
  },
  {
   "cell_type": "code",
   "execution_count": 15,
   "id": "f984007c",
   "metadata": {},
   "outputs": [
    {
     "data": {
      "image/png": "[encoded data removed]",
      "text/plain": [
       "<Figure size 1080x720 with 2 Axes>"
      ]
     },
     "metadata": {
      "needs_background": "light"
     },
     "output_type": "display_data"
    }
   ],
   "source": [
    "def trai_test_plot(acc, test_acc, loss, test_loss):\n",
    "    \n",
    "    fig, (ax1, ax2) = plt.subplots(1,2, figsize= (15,10))\n",
    "    fig.suptitle(\"Model's metrics comparisson\", fontsize=20)\n",
    "\n",
    "    ax1.plot(range(1, len(acc) + 1), acc)\n",
    "    ax1.plot(range(1, len(test_acc) + 1), test_acc)\n",
    "    ax1.set_title('History of Accuracy', fontsize=15)\n",
    "    ax1.set_xlabel('Epochs', fontsize=15)\n",
    "    ax1.set_ylabel('Accuracy', fontsize=15)\n",
    "    ax1.legend(['training', 'validation'])\n",
    "\n",
    "\n",
    "    ax2.plot(range(1, len(loss) + 1), loss)\n",
    "    ax2.plot(range(1, len(test_loss) + 1), test_loss)\n",
    "    ax2.set_title('History of Loss', fontsize=15)\n",
    "    ax2.set_xlabel('Epochs', fontsize=15)\n",
    "    ax2.set_ylabel('Loss', fontsize=15)\n",
    "    ax2.legend(['training', 'validation'])\n",
    "    plt.show()\n",
    "    \n",
    "\n",
    "train_test_plot(\n",
    "    history.history['categorical_accuracy'],\n",
    "    history.history['val_categorical_accuracy'],\n",
    "    history.history['loss'],\n",
    "    history.history['val_loss']\n",
    ")"
   ]
  },
  {
   "cell_type": "code",
   "execution_count": 6,
   "id": "c851a73e",
   "metadata": {},
   "outputs": [],
   "source": [
    "final_model = keras.models.load_model('Cassava_model.h5')"
   ]
  },
  {
   "cell_type": "code",
   "execution_count": 7,
   "id": "fbd73206",
   "metadata": {},
   "outputs": [],
   "source": [
    "from PIL import Image\n",
    "\n",
    "TEST_DIR = 'test_images/'\n",
    "test_images = os.listdir(TEST_DIR)\n",
    "predictions = []\n",
    "\n",
    "for image in test_images:\n",
    "    img = Image.open(TEST_DIR + image)\n",
    "    img = img.resize((456,456))\n",
    "    img = np.expand_dims(img, axis=0)\n",
    "    predictions.extend(final_model.predict(img).argmax(axis = 1))"
   ]
  },
  {
   "cell_type": "code",
   "execution_count": 8,
   "id": "ea6ccf12",
   "metadata": {},
   "outputs": [
    {
     "data": {
      "text/plain": [
       "[4]"
      ]
     },
     "execution_count": 8,
     "metadata": {},
     "output_type": "execute_result"
    }
   ],
   "source": [
    "predictions"
   ]
  },
  {
   "cell_type": "code",
   "execution_count": 9,
   "id": "af2de343",
   "metadata": {},
   "outputs": [],
   "source": [
    "class_dict = {\"Cassava_Bacterial_Blight\" : 0,\n",
    "           \"Cassava_Brown_Streak_Disease\" : 1,\n",
    "           \"Cassava_Green_Mottle\":2,\n",
    "           \"Cassava_Mosaic_Disease\" : 3,\n",
    "           \"Healthy\": 4}"
   ]
  },
  {
   "cell_type": "code",
   "execution_count": 10,
   "id": "5695ba81",
   "metadata": {},
   "outputs": [],
   "source": [
    "import json\n",
    "with open(\"class_dictionary.json\",\"w\") as f:\n",
    "    f.write(json.dumps(class_dict))"
   ]
  },
  {
   "cell_type": "code",
   "execution_count": null,
   "id": "bc56cc90",
   "metadata": {},
   "outputs": [],
   "source": []
  }
 ],
 "metadata": {
  "kernelspec": {
   "display_name": "Python 3 (ipykernel)",
   "language": "python",
   "name": "python3"
  },
  "language_info": {
   "codemirror_mode": {
    "name": "ipython",
    "version": 3
   },
   "file_extension": ".py",
   "mimetype": "text/x-python",
   "name": "python",
   "nbconvert_exporter": "python",
   "pygments_lexer": "ipython3",
   "version": "3.9.7"
  }
 },
 "nbformat": 4,
 "nbformat_minor": 5
}
